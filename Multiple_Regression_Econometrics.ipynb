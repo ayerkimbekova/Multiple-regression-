{
 "cells": [
  {
   "cell_type": "markdown",
   "metadata": {},
   "source": [
    "#The regression analysis has been conducted in order to check the results in Econometrics textbook.\n",
    "Checking hypothesis that school size has no effect on standardized test scores against the alternative that size has a negative effect.\n",
    "The null hypothesis is H0: b(enroll)=0, and the alternative is H1: b(enroll)< 0. Other factors- average annual teacher compensation (totcomp) as a measure of teacher quality and the number of staff per one thousand students (staff) as a measure of attention to students . "
   ]
  },
  {
   "cell_type": "code",
   "execution_count": 1,
   "metadata": {},
   "outputs": [],
   "source": [
    "import numpy as np\n",
    "import statsmodels.api as sm\n",
    "import matplotlib as plt\n",
    "import pandas as pd\n",
    "import patsy as ps"
   ]
  },
  {
   "cell_type": "code",
   "execution_count": 2,
   "metadata": {},
   "outputs": [],
   "source": [
    "df=pd.read_csv(\"meap93.csv\")"
   ]
  },
  {
   "cell_type": "code",
   "execution_count": 7,
   "metadata": {},
   "outputs": [],
   "source": [
    "y,X = ps.dmatrices('math10 ~ totcomp + staff + enroll',data=df, return_type='dataframe')\n",
    "model = sm.OLS(y,X)\n",
    "results = model.fit() "
   ]
  },
  {
   "cell_type": "code",
   "execution_count": 17,
   "metadata": {},
   "outputs": [
    {
     "name": "stdout",
     "output_type": "stream",
     "text": [
      "                            OLS Regression Results                            \n",
      "==============================================================================\n",
      "Dep. Variable:                 math10   R-squared:                       0.054\n",
      "Model:                            OLS   Adj. R-squared:                  0.047\n",
      "Method:                 Least Squares   F-statistic:                     7.697\n",
      "Date:                Sun, 13 Sep 2020   Prob (F-statistic):           5.18e-05\n",
      "Time:                        15:05:01   Log-Likelihood:                -1526.2\n",
      "No. Observations:                 408   AIC:                             3060.\n",
      "Df Residuals:                     404   BIC:                             3076.\n",
      "Df Model:                           3                                         \n",
      "Covariance Type:            nonrobust                                         \n",
      "==============================================================================\n",
      "                 coef    std err          t      P>|t|      [0.025      0.975]\n",
      "------------------------------------------------------------------------------\n",
      "Intercept      2.2740      6.114      0.372      0.710      -9.745      14.293\n",
      "totcomp        0.0005      0.000      4.570      0.000       0.000       0.001\n",
      "staff          0.0479      0.040      1.204      0.229      -0.030       0.126\n",
      "enroll        -0.0002      0.000     -0.918      0.359      -0.001       0.000\n",
      "==============================================================================\n",
      "Omnibus:                       31.666   Durbin-Watson:                   1.669\n",
      "Prob(Omnibus):                  0.000   Jarque-Bera (JB):               40.628\n",
      "Skew:                           0.615   Prob(JB):                     1.51e-09\n",
      "Kurtosis:                       3.936   Cond. No.                     4.68e+05\n",
      "==============================================================================\n",
      "\n",
      "Warnings:\n",
      "[1] Standard Errors assume that the covariance matrix of the errors is correctly specified.\n",
      "[2] The condition number is large, 4.68e+05. This might indicate that there are\n",
      "strong multicollinearity or other numerical problems.\n"
     ]
    }
   ],
   "source": [
    "#The results indicate negative coef. on enrollment, whcih indicates that larger schools tend to perform worse\n",
    "#Positive sign on tootcomp and staff confirm our assumption that more attention and teacher quality positively affect performance \n",
    "print (results.summary())"
   ]
  },
  {
   "cell_type": "code",
   "execution_count": 12,
   "metadata": {},
   "outputs": [
    {
     "name": "stdout",
     "output_type": "stream",
     "text": [
      "                             Test for Constraints                             \n",
      "==============================================================================\n",
      "                 coef    std err          t      P>|t|      [0.025      0.975]\n",
      "------------------------------------------------------------------------------\n",
      "c0            -0.0002      0.000     -0.918      0.359      -0.001       0.000\n",
      "==============================================================================\n"
     ]
    }
   ],
   "source": [
    "#Hypothesis testing indiacates  that we fail to reject H0 at both 5% and 15% (-0.918>-1.65, -0.918>-1.04)\n",
    "hypotheses = 'enroll = 0'\n",
    "t_test = results.t_test(hypotheses)\n",
    "print(t_test)"
   ]
  },
  {
   "cell_type": "code",
   "execution_count": null,
   "metadata": {},
   "outputs": [],
   "source": []
  }
 ],
 "metadata": {
  "kernelspec": {
   "display_name": "Python 3",
   "language": "python",
   "name": "python3"
  },
  "language_info": {
   "codemirror_mode": {
    "name": "ipython",
    "version": 3
   },
   "file_extension": ".py",
   "mimetype": "text/x-python",
   "name": "python",
   "nbconvert_exporter": "python",
   "pygments_lexer": "ipython3",
   "version": "3.8.3"
  }
 },
 "nbformat": 4,
 "nbformat_minor": 4
}
